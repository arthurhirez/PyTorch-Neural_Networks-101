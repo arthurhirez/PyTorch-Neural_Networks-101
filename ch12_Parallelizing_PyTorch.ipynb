{
 "cells": [
  {
   "cell_type": "code",
   "execution_count": 1,
   "id": "d4f4c696e33eb",
   "metadata": {
    "collapsed": true,
    "ExecuteTime": {
     "end_time": "2024-03-07T21:53:04.784192600Z",
     "start_time": "2024-03-07T21:53:00.962136900Z"
    }
   },
   "outputs": [],
   "source": [
    "import torch\n",
    "import numpy as np"
   ]
  },
  {
   "cell_type": "code",
   "execution_count": 2,
   "outputs": [
    {
     "name": "stdout",
     "output_type": "stream",
     "text": [
      "tensor([1, 2, 3])\n",
      "tensor([4, 5, 6], dtype=torch.int32)\n",
      "\n",
      "t_ones\n",
      "torch.Size([2, 3])\n",
      "tensor([[1., 1., 1.],\n",
      "        [1., 1., 1.]])\n",
      "\n",
      "t_rand\n",
      "tensor([[0.6784, 0.5891, 0.5242],\n",
      "        [0.5914, 0.9370, 0.3852]])\n"
     ]
    }
   ],
   "source": [
    "np.set_printoptions(precision = 3)\n",
    "a = [1, 2, 3]\n",
    "b = np.array([4, 5, 6], dtype = np.int32)\n",
    "\n",
    "t_a = torch.tensor(a)\n",
    "t_b = torch.from_numpy(b)\n",
    "\n",
    "t_ones = torch.ones(2, 3)\n",
    "\n",
    "t_rand = torch.rand(2, 3)\n",
    "\n",
    "print(t_a)\n",
    "print(t_b)\n",
    "\n",
    "print(\"\\nt_ones\")\n",
    "print(t_ones.shape)\n",
    "print(t_ones)\n",
    "\n",
    "print(\"\\nt_rand\")\n",
    "print(t_rand)"
   ],
   "metadata": {
    "collapsed": false,
    "ExecuteTime": {
     "end_time": "2024-03-07T21:53:04.854689100Z",
     "start_time": "2024-03-07T21:53:04.782193400Z"
    }
   },
   "id": "initial_id"
  },
  {
   "cell_type": "code",
   "execution_count": null,
   "outputs": [],
   "source": [],
   "metadata": {
    "collapsed": false
   },
   "id": "416e314d339e0092"
  }
 ],
 "metadata": {
  "kernelspec": {
   "display_name": "Python 3",
   "language": "python",
   "name": "python3"
  },
  "language_info": {
   "codemirror_mode": {
    "name": "ipython",
    "version": 2
   },
   "file_extension": ".py",
   "mimetype": "text/x-python",
   "name": "python",
   "nbconvert_exporter": "python",
   "pygments_lexer": "ipython2",
   "version": "2.7.6"
  }
 },
 "nbformat": 4,
 "nbformat_minor": 5
}
