{
 "cells": [
  {
   "cell_type": "code",
   "execution_count": 1,
   "id": "initial_id",
   "metadata": {
    "collapsed": true,
    "ExecuteTime": {
     "end_time": "2024-04-07T04:36:16.513251800Z",
     "start_time": "2024-04-07T04:36:15.025771300Z"
    }
   },
   "outputs": [],
   "source": [
    "import time\n",
    "\n",
    "from Autoencoder import Autoencoder\n",
    "from NeuralNetwork import NeuralNetwork\n",
    "\n",
    "from Dense import Dense\n",
    "\n",
    "from utils import *"
   ]
  },
  {
   "cell_type": "code",
   "execution_count": 11,
   "outputs": [],
   "source": [
    "# Image(filename='./imgs/11_12.png', width=500) "
   ],
   "metadata": {
    "collapsed": false,
    "ExecuteTime": {
     "end_time": "2024-04-07T03:58:21.316660200Z",
     "start_time": "2024-04-07T03:58:21.198381200Z"
    }
   },
   "id": "b201a0c22a690c45"
  },
  {
   "cell_type": "code",
   "execution_count": 12,
   "outputs": [],
   "source": [
    "# Image(filename='./imgs/11_13.png', width=500) "
   ],
   "metadata": {
    "collapsed": false,
    "ExecuteTime": {
     "end_time": "2024-04-07T03:58:21.326952300Z",
     "start_time": "2024-04-07T03:58:21.203168700Z"
    }
   },
   "id": "bb4fb972cf091803"
  },
  {
   "cell_type": "code",
   "execution_count": 13,
   "outputs": [],
   "source": [
    "################## EXPERIMENTO 1 : MUDANDO EPOCAS ##################\n",
    "# epoch_exp = [100, 500, 1000, 1500]\n",
    "# repetitions = 3\n",
    "# losses = {}\n",
    "\n",
    "################## EXPERIMENTO 2 : MUDANDO TAMANHO TESTE ##################"
   ],
   "metadata": {
    "collapsed": false,
    "ExecuteTime": {
     "end_time": "2024-04-07T03:58:21.329043600Z",
     "start_time": "2024-04-07T03:58:21.209210Z"
    }
   },
   "id": "6baae60145353b15"
  },
  {
   "cell_type": "code",
   "execution_count": null,
   "outputs": [
    {
     "name": "stdout",
     "output_type": "stream",
     "text": [
      " 100/100  | time_elapsed: 8.62 |  error=0.06182106  |\n",
      " 100/100  | time_elapsed: 9.26 |  error=0.06389174  |\n",
      " 100/100  | time_elapsed: 9.65 |  error=0.06586915  |\n",
      "Terminou batch 512:\t27.61s\n",
      " 100/100  |time_elapsed: 10.09 |  error=0.04179763  |\n",
      " 100/100  |time_elapsed: 10.05 |  error=0.04264144  |\n",
      " 100/100  |time_elapsed: 10.02 |  error=0.04275224  |\n",
      "Terminou batch 256:\t30.25s\n",
      " 100/100  | time_elapsed: 9.74 |  error=0.02955500  |\n",
      " 100/100  |time_elapsed: 10.08 |  error=0.03050201  |\n",
      " 100/100  | time_elapsed: 9.75 |  error=0.03137688  |\n",
      "Terminou batch 128:\t29.67s\n",
      " 100/100  |time_elapsed: 13.52 |  error=0.03248687  |\n",
      " 100/100  |time_elapsed: 13.13 |  error=0.03214918  |\n",
      " 100/100  |time_elapsed: 13.20 |  error=0.03134445  |\n",
      "Terminou batch 64:\t39.95s\n",
      " 100/100  |time_elapsed: 21.24 |  error=0.03023461  |\n",
      " 100/100  |time_elapsed: 21.26 |  error=0.02896266  |\n",
      " 100/100  |time_elapsed: 21.46 |  error=0.03094053  |\n",
      "Terminou batch 32:\t64.04s\n",
      "-----***----------***----------***----------***----------***----------***----------***----------***----------***----------***-----\n",
      "Terminou treino 750:\t191.51s\n",
      "-----***----------***----------***----------***----------***----------***----------***----------***----------***----------***-----\n",
      " 100/100  |time_elapsed: 19.11 |  error=0.04176730  |\n",
      " 100/100  |time_elapsed: 18.33 |  error=0.04272198  |\n",
      " 100/100  |time_elapsed: 18.53 |  error=0.04149119  |\n",
      "Terminou batch 512:\t56.11s\n",
      " 100/100  |time_elapsed: 19.97 |  error=0.02490060  |\n",
      " 100/100  |time_elapsed: 20.32 |  error=0.02586899  |\n",
      " 100/100  |time_elapsed: 19.48 |  error=0.02488196  |\n",
      "Terminou batch 256:\t59.88s\n",
      " 100/100  |time_elapsed: 19.93 |  error=0.02064938  |\n",
      " 100/100  |time_elapsed: 21.03 |  error=0.01968240  |\n",
      " 100/100  |time_elapsed: 18.49 |  error=0.02133443  |\n",
      "Terminou batch 128:\t59.54s\n",
      " 100/100  |time_elapsed: 26.69 |  error=0.02044028  |\n",
      " 100/100  |time_elapsed: 26.40 |  error=0.01921857  |\n",
      " 100/100  |time_elapsed: 26.39 |  error=0.01825123  |\n",
      "Terminou batch 64:\t79.57s\n",
      " 100/100  |time_elapsed: 41.43 |  error=0.02056021  |\n",
      " 100/100  |time_elapsed: 42.33 |  error=0.02145425  |\n",
      " 100/100  |time_elapsed: 38.52 |  error=0.01971623  |\n",
      "Terminou batch 32:\t122.36s\n",
      "-----***----------***----------***----------***----------***----------***----------***----------***----------***----------***-----\n",
      "Terminou treino 1500:\t377.46s\n",
      "-----***----------***----------***----------***----------***----------***----------***----------***----------***----------***-----\n",
      " 100/100  |time_elapsed: 30.10 |  error=0.02447431  |\n",
      " 100/100  |time_elapsed: 29.42 |  error=0.02500216  |\n",
      " 100/100  |time_elapsed: 29.69 |  error=0.02631691  |\n",
      "Terminou batch 512:\t89.30s\n",
      " 100/100  |time_elapsed: 32.60 |  error=0.01548481  |\n",
      " 100/100  |time_elapsed: 34.65 |  error=0.01552127  |\n",
      " 100/100  |time_elapsed: 41.47 |  error=0.01727723  |\n",
      "Terminou batch 256:\t108.81s\n",
      " 100/100  |time_elapsed: 46.84 |  error=0.01542693  |\n",
      " 100/100  |time_elapsed: 39.43 |  error=0.01301929  |\n",
      " 100/100  |time_elapsed: 40.34 |  error=0.01395172  |\n",
      "Terminou batch 128:\t126.72s\n",
      " 100/100  |time_elapsed: 52.21 |  error=0.01335258  |\n",
      " 100/100  |time_elapsed: 51.80 |  error=0.01561976  |\n",
      " 100/100  |time_elapsed: 52.41 |  error=0.01418096  |\n",
      "Terminou batch 64:\t156.51s\n",
      " 100/100  |time_elapsed: 85.03 |  error=0.01697194  |\n",
      " 100/100  |time_elapsed: 82.55 |  error=0.02049418  |\n",
      " 100/100  |time_elapsed: 75.33 |  error=0.01475208  |\n",
      "Terminou batch 32:\t243.00s\n",
      "-----***----------***----------***----------***----------***----------***----------***----------***----------***----------***-----\n",
      "Terminou treino 3000:\t724.33s\n",
      "-----***----------***----------***----------***----------***----------***----------***----------***----------***----------***-----\n",
      " 100/100  |time_elapsed: 72.04 |  error=0.01389002  |\n",
      " 100/100  |time_elapsed: 73.23 |  error=0.01445400  |\n",
      " 100/100  |time_elapsed: 72.28 |  error=0.01479732  |\n",
      "Terminou batch 512:\t217.63s\n",
      " 100/100  |time_elapsed: 79.53 |  error=0.00928246  |\n",
      " 100/100  |time_elapsed: 78.96 |  error=0.01022991  |\n",
      " 100/100  |time_elapsed: 82.97 |  error=0.00939092  |\n",
      "Terminou batch 256:\t241.55s\n",
      " 100/100  |time_elapsed: 82.10 |  error=0.00859272  |\n",
      " 100/100  |time_elapsed: 90.46 |  error=0.00852764  |\n",
      " 100/100  |time_elapsed: 88.75 |  error=0.00993584  |\n",
      "Terminou batch 128:\t261.39s\n",
      " 100/100  |time_elapsed: 133.09|  error=0.01103754  |\n",
      " 100/100  |time_elapsed: 123.55|  error=0.00999249  |\n",
      " 100/100  |time_elapsed: 116.17|  error=0.01343358  |\n",
      "Terminou batch 64:\t372.86s\n"
     ]
    }
   ],
   "source": [
    "epoch_exp = [100, 500, 1000]\n",
    "train_exp = [750, 1500, 3000, 7500, 10000, 15000]\n",
    "# batch_exp = [2**x for x in range(9, 4, -1)]\n",
    "batch_exp = [512, 256, 128, 64, 32]\n",
    "\n",
    "repetitions = 3\n",
    "\n",
    "start_time = time.time()\n",
    "\n",
    "for epoch in epoch_exp:\n",
    "    etime_batch = time.time()\n",
    "    for train_size in train_exp:\n",
    "        X_train, _, _, _ = load_MNIST(train_size = train_size, test_size = int(0.2*train_size))\n",
    "        ttime_batch = time.time()\n",
    "        for batch in batch_exp:\n",
    "            stime_batch = time.time()\n",
    "            for rep in range(repetitions):\n",
    "                encoder = Autoencoder(lr = 1e-1)\n",
    "                \n",
    "                encoder.add(Dense(28*28, 350))\n",
    "                encoder.add(Dense(350, 128, output_layer = True))\n",
    "                \n",
    "                encoder.fit(X_train, X_train, epochs = epoch, batch_size = batch, verbose = False)\n",
    "                # report_encode(X_test, X_test, encoder)\n",
    "                # encoder.plot_loss()\n",
    "                encoder.save(f\"experiments/encoder_epoch_{epoch}_{train_size}_{batch}_{rep}.pkl\")\n",
    "            print(f\"Terminou batch {batch}:\\t{time.time() - stime_batch:.2f}s\")\n",
    "        print('-----***-----'*10)\n",
    "        print(f\"Terminou treino {train_size}:\\t{time.time() - ttime_batch:.2f}s\")\n",
    "        print('-----***-----'*10 + '\\n')\n",
    "    print('-----***-----'*10)\n",
    "    print(f\"\\nTerminou epoca {epoch}:\\t{time.time() - etime_batch:.2f}s\")\n",
    "    print(['//***//']*10 + ['\\n'])\n",
    "print('-----***-----'*10)\n",
    "print(f\"\\nTempo total:\\t{time.time() - start_time:.2f}s\")\n",
    "print('-----***-----'*10 + '\\n')"
   ],
   "metadata": {
    "collapsed": false,
    "is_executing": true,
    "ExecuteTime": {
     "start_time": "2024-04-07T05:01:35.754065200Z"
    }
   },
   "id": "9fd6fecd2ced12d2"
  },
  {
   "cell_type": "code",
   "execution_count": null,
   "outputs": [],
   "source": [
    "# import os\n",
    "# import numpy as np\n",
    "# import matplotlib.pyplot as plt\n",
    "# \n",
    "# # Define parameters for the new experiment\n",
    "# epoch_exp = [100]\n",
    "# train_exp = [750, 1500]\n",
    "# batch_exp = [512, 256, 128, 64, 32]\n",
    "# repetitions = 1\n",
    "# losses = {}\n",
    "# \n",
    "# # Load models and retrieve losses\n",
    "# for epoch in epoch_exp:\n",
    "#     for train_size in train_exp:\n",
    "#         for batch in batch_exp:\n",
    "#             epoch_losses = []\n",
    "#             error_trace = []\n",
    "#             for rep in range(repetitions):\n",
    "#                 filename = f\"experiments/encoder_epoch_{epoch}_{train_size}_{batch}_{rep}.pkl\"\n",
    "#                 if os.path.exists(filename):\n",
    "#                     encoder = Autoencoder.load(filename)  # Load model\n",
    "#                     epoch_losses.append(encoder.mse_train)  # Retrieve last MSE from training\n",
    "#                     error_trace.append(encoder.err_trace)\n",
    "#             losses[(epoch, train_size, batch)] = ((np.mean(epoch_losses), np.std(epoch_losses, ddof=1)),)\n",
    "# \n",
    "# # Plot mean and std of losses for each combination of parameters\n",
    "# fig, axes = plt.subplots(len(train_exp), len(batch_exp), figsize=(15, 10), sharex=True, sharey=True)\n",
    "# \n",
    "# for i, train_size in enumerate(train_exp):\n",
    "#     for j, batch in enumerate(batch_exp):\n",
    "#         mean_losses = [losses[(epoch, train_size, batch)][0][0] for epoch in epoch_exp]\n",
    "#         std_losses = [losses[(epoch, train_size, batch)][0][1] for epoch in epoch_exp]\n",
    "# \n",
    "#         axes[i, j].bar(epoch_exp, mean_losses, yerr=std_losses, capsize=5)\n",
    "#         axes[i, j].set_title(f'Train Size: {train_size}, Batch Size: {batch}')\n",
    "#         axes[i, j].set_xlabel('Number of Epochs')\n",
    "#         axes[i, j].set_ylabel('Mean Loss')\n",
    "#         axes[i, j].grid(True)\n",
    "# \n",
    "# plt.tight_layout()\n",
    "# plt.show()\n"
   ],
   "metadata": {
    "collapsed": false,
    "ExecuteTime": {
     "start_time": "2024-04-07T04:01:09.231365100Z"
    }
   },
   "id": "a7e2c27941f3b6b6"
  },
  {
   "cell_type": "code",
   "execution_count": null,
   "outputs": [],
   "source": [
    "#             encoder = Autoencoder.load(filename)  # Load model\n",
    "#             epoch_losses.append(encoder.mse_train)  # Retrieve last MSE from training\n",
    "#             error_trace.append(encoder.err_trace)\n",
    "#     losses[epoch] = ((np.mean(epoch_losses), np.std(epoch_losses, ddof = 1)), (error_trace))"
   ],
   "metadata": {
    "collapsed": false,
    "ExecuteTime": {
     "start_time": "2024-04-07T04:01:09.233363300Z"
    }
   },
   "id": "72955b583030b47e"
  },
  {
   "cell_type": "code",
   "execution_count": null,
   "outputs": [],
   "source": [],
   "metadata": {
    "collapsed": false,
    "ExecuteTime": {
     "start_time": "2024-04-07T04:01:09.235873900Z"
    }
   },
   "id": "510ea28093e7b409"
  },
  {
   "cell_type": "code",
   "execution_count": null,
   "outputs": [],
   "source": [],
   "metadata": {
    "collapsed": false,
    "ExecuteTime": {
     "start_time": "2024-04-07T04:01:09.240391500Z"
    }
   },
   "id": "fa4055f7799f7192"
  },
  {
   "cell_type": "code",
   "execution_count": null,
   "outputs": [],
   "source": [],
   "metadata": {
    "collapsed": false,
    "ExecuteTime": {
     "start_time": "2024-04-07T04:01:09.242394600Z"
    }
   },
   "id": "765a33e732e6eb7e"
  },
  {
   "cell_type": "code",
   "execution_count": null,
   "outputs": [],
   "source": [],
   "metadata": {
    "collapsed": false,
    "ExecuteTime": {
     "end_time": "2024-04-07T04:01:09.244390700Z",
     "start_time": "2024-04-07T04:01:09.244390700Z"
    }
   },
   "id": "62af510863aa3b33"
  },
  {
   "cell_type": "code",
   "execution_count": null,
   "outputs": [],
   "source": [],
   "metadata": {
    "collapsed": false,
    "ExecuteTime": {
     "start_time": "2024-04-07T04:01:09.246506600Z"
    }
   },
   "id": "bb79389f98407941"
  },
  {
   "cell_type": "code",
   "execution_count": null,
   "outputs": [],
   "source": [],
   "metadata": {
    "collapsed": false,
    "ExecuteTime": {
     "start_time": "2024-04-07T04:01:09.249533800Z"
    }
   },
   "id": "fcc0bd7ab01270d6"
  },
  {
   "cell_type": "code",
   "execution_count": null,
   "outputs": [],
   "source": [],
   "metadata": {
    "collapsed": false,
    "ExecuteTime": {
     "start_time": "2024-04-07T04:01:09.252515900Z"
    }
   },
   "id": "9a3d8d941792fc04"
  },
  {
   "cell_type": "code",
   "execution_count": null,
   "outputs": [],
   "source": [
    "import os\n",
    "import numpy as np\n",
    "import matplotlib.pyplot as plt\n",
    "\n",
    "# Define parameters\n",
    "epoch_exp = [100, 500, 1000, 1500]\n",
    "repetitions = 3\n",
    "losses = {}\n",
    "\n",
    "# Load models and retrieve losses\n",
    "for epoch in epoch_exp:\n",
    "    epoch_losses = []\n",
    "    error_trace = []\n",
    "    for rep in range(repetitions):\n",
    "        filename = f\"experiments/encoder_epoch_{epoch}_{rep}.pkl\"\n",
    "        if os.path.exists(filename):\n",
    "            encoder = Autoencoder.load(filename)  # Load model\n",
    "            epoch_losses.append(encoder.mse_train)  # Retrieve last MSE from training\n",
    "            error_trace.append(encoder.err_trace)\n",
    "    losses[epoch] = ((np.mean(epoch_losses), np.std(epoch_losses, ddof = 1)), (error_trace))\n",
    "\n",
    "\n",
    "mean_losses = [losses[epoch][0][0] for epoch in epoch_exp]\n",
    "std_losses = [losses[epoch][0][1] for epoch in epoch_exp]\n",
    "\n",
    "plt.figure(figsize=(10, 6))\n",
    "plt.bar(epoch_exp, mean_losses, yerr=std_losses, capsize=5)\n",
    "plt.title('Mean and Standard Deviation of Losses by Epoch Experiment')\n",
    "plt.xlabel('Number of Epochs')\n",
    "plt.ylabel('Mean Loss')\n",
    "plt.xticks(epoch_exp)\n",
    "plt.grid(True)\n",
    "plt.show()\n",
    "\n",
    "# Plot error trace for each epoch\n",
    "plt.figure(figsize=(10, 6))\n",
    "for epoch in epoch_exp:\n",
    "    plt.plot(losses[epoch][1][0], label=f'Epoch {epoch}')\n",
    "plt.title('Error Trace by Epoch')\n",
    "plt.xlabel('Iteration')\n",
    "plt.ylabel('Loss')\n",
    "plt.legend()\n",
    "plt.grid(True)\n",
    "plt.show()"
   ],
   "metadata": {
    "collapsed": false,
    "ExecuteTime": {
     "start_time": "2024-04-07T04:01:09.256262200Z"
    }
   },
   "id": "b4bc1054cf5601ca"
  },
  {
   "cell_type": "code",
   "execution_count": null,
   "outputs": [],
   "source": [],
   "metadata": {
    "collapsed": false,
    "ExecuteTime": {
     "start_time": "2024-04-07T04:01:09.257268400Z"
    }
   },
   "id": "b04ccfa74b47280c"
  },
  {
   "cell_type": "code",
   "execution_count": null,
   "outputs": [],
   "source": [],
   "metadata": {
    "collapsed": false,
    "ExecuteTime": {
     "end_time": "2024-04-07T04:01:09.281357500Z",
     "start_time": "2024-04-07T04:01:09.258275200Z"
    }
   },
   "id": "c9b7b827bf0db291"
  },
  {
   "cell_type": "code",
   "execution_count": null,
   "outputs": [],
   "source": [],
   "metadata": {
    "collapsed": false,
    "ExecuteTime": {
     "start_time": "2024-04-07T04:01:09.259276200Z"
    }
   },
   "id": "de7747e128cf80b9"
  },
  {
   "cell_type": "code",
   "execution_count": null,
   "outputs": [],
   "source": [],
   "metadata": {
    "collapsed": false,
    "ExecuteTime": {
     "start_time": "2024-04-07T04:01:09.262275400Z"
    }
   },
   "id": "b69783620452982a"
  },
  {
   "cell_type": "code",
   "execution_count": null,
   "outputs": [],
   "source": [],
   "metadata": {
    "collapsed": false,
    "ExecuteTime": {
     "start_time": "2024-04-07T04:01:09.264275900Z"
    }
   },
   "id": "62ac0fa594a7563f"
  },
  {
   "cell_type": "code",
   "execution_count": null,
   "outputs": [],
   "source": [],
   "metadata": {
    "collapsed": false,
    "ExecuteTime": {
     "start_time": "2024-04-07T04:01:09.266298800Z"
    }
   },
   "id": "b6b7d0b3405009ec"
  },
  {
   "cell_type": "code",
   "execution_count": null,
   "outputs": [],
   "source": [
    "# ae = Autoencoder(((Dense(28*28, 384),\n",
    "#                    Dense(384, 128, output_layer = True)),\n",
    "#                   (Dense(128, 384),\n",
    "#                    Dense(384, 28*28, output_layer = True))))\n",
    "# ae.sigmoid_output()\n",
    "# ae.fit(X_train, X_train, epochs = 401, batch_size = 64)"
   ],
   "metadata": {
    "collapsed": false,
    "ExecuteTime": {
     "start_time": "2024-04-07T04:01:09.268310100Z"
    }
   },
   "id": "dbbd65847fbafb7d"
  },
  {
   "cell_type": "code",
   "execution_count": null,
   "outputs": [],
   "source": [
    "# nn = NeuralNetwork(lr = 1e-2)\n",
    "# \n",
    "# nn.add(Dense(28*28, 384))\n",
    "# nn.add(Dense(384, 128))\n",
    "# nn.add(Dense(128, 384))\n",
    "# nn.add(Dense(384, 28*28, output_layer = True))\n",
    "# nn.layers[-1].set_sigmoid()\n",
    "# \n",
    "# nn.fit(X_train, X_train, epochs = 401, batch_size = 64)"
   ],
   "metadata": {
    "collapsed": false,
    "ExecuteTime": {
     "start_time": "2024-04-07T04:01:09.269309700Z"
    }
   },
   "id": "53c93e69e38e0df6"
  },
  {
   "cell_type": "code",
   "execution_count": null,
   "outputs": [],
   "source": [
    "# loaded_nn = Autoencoder.load('trained_nn.pkl')\n",
    "# print_results(X_test, X_test, loaded_nn)"
   ],
   "metadata": {
    "collapsed": false,
    "ExecuteTime": {
     "start_time": "2024-04-07T04:01:09.271311400Z"
    }
   },
   "id": "27ce10534b61d9b1"
  },
  {
   "cell_type": "code",
   "execution_count": null,
   "outputs": [],
   "source": [
    "# loaded_ae = Autoencoder.load('trained_ae.pkl')\n",
    "# print_results_encode(X_test, X_test, loaded_ae)"
   ],
   "metadata": {
    "collapsed": false,
    "ExecuteTime": {
     "start_time": "2024-04-07T04:01:09.273311Z"
    }
   },
   "id": "2daee3465e12dc53"
  },
  {
   "cell_type": "markdown",
   "source": [
    "t1_d = time.time()\n",
    "for _ in range(1, rep + 1):\n",
    "    d_dinsum = np.dot(a, b)\n",
    "t2_d = time.time()\n",
    "\n",
    "t_d = t2_d - t1_d\n",
    "t_d"
   ],
   "metadata": {
    "collapsed": false
   },
   "id": "b9ac6381ac4dcda3"
  }
 ],
 "metadata": {
  "kernelspec": {
   "display_name": "Python 3",
   "language": "python",
   "name": "python3"
  },
  "language_info": {
   "codemirror_mode": {
    "name": "ipython",
    "version": 2
   },
   "file_extension": ".py",
   "mimetype": "text/x-python",
   "name": "python",
   "nbconvert_exporter": "python",
   "pygments_lexer": "ipython2",
   "version": "2.7.6"
  }
 },
 "nbformat": 4,
 "nbformat_minor": 5
}
